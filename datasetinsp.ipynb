{
 "cells": [
  {
   "cell_type": "code",
   "execution_count": 1,
   "metadata": {},
   "outputs": [],
   "source": [
    "import os\n",
    "import PIL\n",
    "from PIL import Image\n",
    "from albumentations.augmentations.geometric.transforms import ShiftScaleRotate\n",
    "from albumentations.core.composition import SomeOf\n",
    "import numpy as np\n",
    "import cv2\n",
    "import random\n",
    "from utils import get_image_list, make_test_label\n",
    "\n",
    "import torch\n",
    "from torch.utils.data import Dataset, DataLoader\n",
    "from torchvision import transforms as T\n",
    "from torchvision import transforms\n",
    "import albumentations\n",
    "import albumentations.pytorch\n"
   ]
  },
  {
   "cell_type": "code",
   "execution_count": 9,
   "metadata": {},
   "outputs": [
    {
     "ename": "SyntaxError",
     "evalue": "invalid syntax (773434884.py, line 82)",
     "output_type": "error",
     "traceback": [
      "\u001b[0;36m  Input \u001b[0;32mIn [9]\u001b[0;36m\u001b[0m\n\u001b[0;31m    anolist= # subclasses for anomaly types\u001b[0m\n\u001b[0m             ^\u001b[0m\n\u001b[0;31mSyntaxError\u001b[0m\u001b[0;31m:\u001b[0m invalid syntax\n"
     ]
    }
   ],
   "source": [
    "\n",
    "class MVTecAD(Dataset):\n",
    "\n",
    "    def __init__(self, image_list, label_list, transform):\n",
    "        self.image_list = image_list\n",
    "        self.label_list = label_list\n",
    "        self.transform = transform\n",
    "\n",
    "    def __getitem__(self, index):\n",
    "        image = Image.open(self.image_list[index])\n",
    "        label = self.label_list[index]\n",
    "        return self.transform(image), label\n",
    "\n",
    "    def __len__(self):\n",
    "        return len(self.image_list)\n",
    "\n",
    "\n",
    "class MVTecAD_Dataset(Dataset):\n",
    "\n",
    "    def __init__(self, image_list, label_list, transform):\n",
    "        self.image_list = image_list\n",
    "        self.label_list = label_list\n",
    "        self.transform = transform\n",
    "\n",
    "    def __getitem__(self, index):\n",
    "        image = cv2.imread(self.image_list[index])\n",
    "        image = cv2.cvtColor(image, cv2.COLOR_BGR2RGB)\n",
    "        label = self.label_list[index][0]\n",
    "        if self.transform is not None:\n",
    "            augmented = self.transform(image=image, label=label)\n",
    "            image = augmented['image']\n",
    "            label = augmented['label']\n",
    "        return image, (label, self.label_list[index][1], self.image_list[index])\n",
    "\n",
    "    def __len__(self):\n",
    "        return len(self.image_list)\n",
    "\n",
    "def get_folder_names(directory):\n",
    "    \"\"\" List all folder names in the specified directory. \"\"\"\n",
    "    return [name for name in os.listdir(directory) if os.path.isdir(os.path.join(directory, name))]\n",
    "\n",
    "\n",
    "def MVTecAD_loader(image_dir, image_size, train_ratio=0.9, batch_size=1, num_workers=0, is_inference=False, seed=1234,contamination=True):\n",
    "    assert train_ratio >=0.0 and train_ratio <=1.0\n",
    "    # automatically returns two dataloaders. train & valid depends on train_ratio\n",
    "    random.seed(seed)\n",
    "    \n",
    "    transform_train = albumentations.Compose([\n",
    "        albumentations.Resize(height=image_size[0], width=image_size[1]),\n",
    "        albumentations.HorizontalFlip(),\n",
    "        albumentations.core.composition.SomeOf([albumentations.ShiftScaleRotate(border_mode=cv2.BORDER_REPLICATE),\n",
    "                                            albumentations.RandomRotate90(),\n",
    "                                            albumentations.GaussNoise()], n=2),\n",
    "        albumentations.Normalize(mean=[0, 0, 0], std=[1, 1, 1]), \n",
    "        albumentations.pytorch.transforms.ToTensorV2(transpose_mask=True)\n",
    "    ])\n",
    "    transform_infer = albumentations.Compose([\n",
    "        albumentations.Resize(height=image_size[0], width=image_size[1]),\n",
    "        albumentations.Normalize(mean=[0, 0, 0], std=[1, 1, 1]), \n",
    "        albumentations.pytorch.transforms.ToTensorV2(transpose_mask=True)\n",
    "    ])\n",
    "\n",
    "    train_imgdir = os.path.join(image_dir, os.path.join('train', 'good'))\n",
    "    test_imgdir = os.path.join(image_dir, 'test')\n",
    "    test_labdir = os.path.join(image_dir, 'ground_truth')\n",
    "\n",
    "    train_image_list = get_image_list(train_imgdir)\n",
    "    \n",
    "    \n",
    "    \n",
    "    # test dataset include segmentation labels - make segmentation labels for normal samples\n",
    "    test_image_list = get_image_list(test_imgdir)\n",
    "    \n",
    "    ## add contam\n",
    "    if contamination:\n",
    "        #TODO procentula contamination\n",
    "        anolist = get_folder_names(test_labdir)\n",
    "        anos_for_trainset=[]     \n",
    "        for anotype  in anolist :\n",
    "            if anotype != \"good\":\n",
    "                subset=[x for x in test_image_list if anotype in x]\n",
    "                samples_subset=random.sample(subset, len(subset)//2 )\n",
    "                anos_for_trainset.extend(samples_subset)\n",
    "            \n",
    "        train_image_list=train_image_list+anos_for_trainset   \n",
    "        test_image_list=[x for x in test_image_list if x not in anos_for_trainset]\n",
    "            \n",
    "        \n",
    "        \n",
    "    \n",
    "    test_label_list = [make_test_label(test_imgdir, test_labdir, x, image_size) for x in test_image_list]\n",
    "    \n",
    "    \n",
    "    \n",
    "    # add the contamination here\n",
    "    \n",
    "    random.shuffle(train_image_list)\n",
    "    train_image_list, valid_image_list = train_image_list[:int(len(train_image_list)*train_ratio)], train_image_list[int(len(train_image_list)*train_ratio):]\n",
    "    train_label_list = [(np.zeros(image_size, dtype=np.uint8), 0)]*len(train_image_list)\n",
    "    valid_label_list = [(np.zeros(image_size, dtype=np.uint8), 0)]*len(valid_image_list)\n",
    "\n",
    "\n",
    "    \n",
    "\n",
    "\n",
    "    # training\n",
    "    if not is_inference:\n",
    "        \n",
    "        train_dataset = MVTecAD_Dataset(train_image_list, train_label_list, transform_train)\n",
    "        train_dataloader = DataLoader(dataset=train_dataset, batch_size=batch_size, num_workers=num_workers, shuffle=True)\n",
    "        if train_ratio < 1.0:\n",
    "            valid_dataset = MVTecAD_Dataset(valid_image_list, valid_label_list, transform_infer)\n",
    "            valid_dataloader = DataLoader(dataset=valid_dataset, batch_size=1, num_workers=0, shuffle=False)\n",
    "        else:\n",
    "            valid_dataloader = None\n",
    "        return train_dataloader, valid_dataloader\n",
    "    \n",
    "    #inference\n",
    "    else:\n",
    "        train_dataset = MVTecAD_Dataset(train_image_list, train_label_list, transform_infer)\n",
    "        train_dataloader = DataLoader(dataset=train_dataset, batch_size=batch_size, num_workers=num_workers, shuffle=False)\n",
    " \n",
    "        infer_dataset = MVTecAD_Dataset(test_image_list, test_label_list, transform_infer)\n",
    "        infer_dataloader = DataLoader(dataset=infer_dataset, batch_size=1, num_workers=0, shuffle=False)\n",
    "        return infer_dataloader, train_dataloader\n",
    "\n",
    "def imshow(x_0):\n",
    "    for i in range(list(x_0.size())[0]):\n",
    "        img = x_0[i].detach().cpu().numpy()\n",
    "        img = img*255.0\n",
    "        img = img.astype(np.uint8)\n",
    "        img = np.moveaxis(img, 0, 2)\n",
    "        img = cv2.cvtColor(img, cv2.COLOR_RGB2BGR)\n",
    "        cv2.imshow('img', img)\n",
    "        cv2.waitKey(0)\n",
    "\n"
   ]
  },
  {
   "cell_type": "code",
   "execution_count": 15,
   "metadata": {},
   "outputs": [
    {
     "ename": "SyntaxError",
     "evalue": "invalid syntax (1964015421.py, line 3)",
     "output_type": "error",
     "traceback": [
      "\u001b[0;36m  Input \u001b[0;32mIn [15]\u001b[0;36m\u001b[0m\n\u001b[0;31m    9//\u001b[0m\n\u001b[0m       ^\u001b[0m\n\u001b[0;31mSyntaxError\u001b[0m\u001b[0;31m:\u001b[0m invalid syntax\n"
     ]
    }
   ],
   "source": []
  },
  {
   "cell_type": "code",
   "execution_count": 12,
   "metadata": {},
   "outputs": [
    {
     "name": "stdout",
     "output_type": "stream",
     "text": [
      "Folders: ['cable_swap', 'missing_wire', 'poke_insulation', 'good', 'missing_cable', 'combined', 'bent_wire', 'cut_outer_insulation', 'cut_inner_insulation']\n"
     ]
    }
   ],
   "source": [
    "import os\n",
    "\n",
    "folders = get_folder_names('/home/bule/projects/MVTec_Visualizer/data/mvtec_anomaly_detection/cable/test')\n",
    "print(\"Folders:\", folders)"
   ]
  },
  {
   "cell_type": "code",
   "execution_count": 10,
   "metadata": {},
   "outputs": [
    {
     "ename": "NameError",
     "evalue": "name 'MVTecAD_loader' is not defined",
     "output_type": "error",
     "traceback": [
      "\u001b[0;31m---------------------------------------------------------------------------\u001b[0m",
      "\u001b[0;31mNameError\u001b[0m                                 Traceback (most recent call last)",
      "Input \u001b[0;32mIn [10]\u001b[0m, in \u001b[0;36m<cell line: 1>\u001b[0;34m()\u001b[0m\n\u001b[1;32m      2\u001b[0m image_dir \u001b[38;5;241m=\u001b[39m \u001b[38;5;124m'\u001b[39m\u001b[38;5;124m/home/bule/projects/MVTec_Visualizer/data/mvtec_anomaly_detection/cable\u001b[39m\u001b[38;5;124m'\u001b[39m\n\u001b[1;32m      3\u001b[0m image_size \u001b[38;5;241m=\u001b[39m (\u001b[38;5;241m256\u001b[39m, \u001b[38;5;241m256\u001b[39m)\n\u001b[0;32m----> 4\u001b[0m data_loader, _ \u001b[38;5;241m=\u001b[39m \u001b[43mMVTecAD_loader\u001b[49m(image_dir, image_size, train_ratio\u001b[38;5;241m=\u001b[39m\u001b[38;5;241m1.0\u001b[39m, batch_size\u001b[38;5;241m=\u001b[39m\u001b[38;5;241m10\u001b[39m, num_workers\u001b[38;5;241m=\u001b[39m\u001b[38;5;241m24\u001b[39m, is_inference\u001b[38;5;241m=\u001b[39m\u001b[38;5;28;01mFalse\u001b[39;00m, seed\u001b[38;5;241m=\u001b[39m\u001b[38;5;241m1234\u001b[39m)\n\u001b[1;32m      5\u001b[0m x_0, _ \u001b[38;5;241m=\u001b[39m \u001b[38;5;28mnext\u001b[39m(\u001b[38;5;28miter\u001b[39m(data_loader))\n\u001b[1;32m      7\u001b[0m \u001b[38;5;66;03m#imshow(x_0)\u001b[39;00m\n",
      "\u001b[0;31mNameError\u001b[0m: name 'MVTecAD_loader' is not defined"
     ]
    }
   ],
   "source": [
    "if __name__ == '__main__':\n",
    "    image_dir = '/home/bule/projects/MVTec_Visualizer/data/mvtec_anomaly_detection/cable'\n",
    "    image_size = (256, 256)\n",
    "    data_loader, _ = MVTecAD_loader(image_dir, image_size, train_ratio=1.0, batch_size=10, num_workers=24, is_inference=False, seed=1234)\n",
    "    x_0, _ = next(iter(data_loader))\n",
    "    \n",
    "    #imshow(x_0)\n",
    "    \n",
    "    \n",
    "    print(os.cpu_count())"
   ]
  },
  {
   "cell_type": "code",
   "execution_count": null,
   "metadata": {},
   "outputs": [],
   "source": []
  }
 ],
 "metadata": {
  "kernelspec": {
   "display_name": "inpaint",
   "language": "python",
   "name": "python3"
  },
  "language_info": {
   "codemirror_mode": {
    "name": "ipython",
    "version": 3
   },
   "file_extension": ".py",
   "mimetype": "text/x-python",
   "name": "python",
   "nbconvert_exporter": "python",
   "pygments_lexer": "ipython3",
   "version": "3.9.18"
  }
 },
 "nbformat": 4,
 "nbformat_minor": 2
}
